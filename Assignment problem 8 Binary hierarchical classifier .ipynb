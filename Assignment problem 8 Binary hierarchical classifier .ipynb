{
 "cells": [
  {
   "cell_type": "markdown",
   "metadata": {},
   "source": [
    "Assigment Problem 8\n",
    "Name:Akhilesh Karamsetty Venkata Subba\n",
    "PGID:11810115"
   ]
  },
  {
   "cell_type": "code",
   "execution_count": 1,
   "metadata": {},
   "outputs": [],
   "source": [
    "import numpy as np \n",
    "import pandas as pd \n",
    "import matplotlib.pyplot as plt\n",
    "import seaborn as sns\n",
    "from sklearn.model_selection import train_test_split\n",
    "from sklearn.preprocessing import LabelEncoder\n",
    "from itertools import combinations\n",
    "from sklearn import svm\n",
    "from sklearn.metrics import accuracy_score\n",
    "from sklearn.svm import LinearSVC"
   ]
  },
  {
   "cell_type": "code",
   "execution_count": 2,
   "metadata": {},
   "outputs": [],
   "source": [
    "import sys\n",
    "import warnings\n",
    "warnings.simplefilter(\"ignore\")"
   ]
  },
  {
   "cell_type": "code",
   "execution_count": 3,
   "metadata": {},
   "outputs": [],
   "source": [
    "label0 = pd.read_csv(\"C:/Users/Akhilesh/Downloads/Assignment/MNIST/train0.csv\")\n",
    "label1 = pd.read_csv(\"C:/Users/Akhilesh/Downloads/Assignment/MNIST/train1.csv\")\n",
    "label2 = pd.read_csv(\"C:/Users/Akhilesh/Downloads/Assignment/MNIST/train2.csv\")\n",
    "label3 = pd.read_csv(\"C:/Users/Akhilesh/Downloads/Assignment/MNIST/train3.csv\")\n",
    "label4 = pd.read_csv(\"C:/Users/Akhilesh/Downloads/Assignment/MNIST/train4.csv\")\n",
    "label5 = pd.read_csv(\"C:/Users/Akhilesh/Downloads/Assignment/MNIST/train5.csv\")\n",
    "label6 = pd.read_csv(\"C:/Users/Akhilesh/Downloads/Assignment/MNIST/train6.csv\")\n",
    "label7 = pd.read_csv(\"C:/Users/Akhilesh/Downloads/Assignment/MNIST/train7.csv\")\n",
    "label8 = pd.read_csv(\"C:/Users/Akhilesh/Downloads/Assignment/MNIST/train8.csv\")\n",
    "label9 = pd.read_csv(\"C:/Users/Akhilesh/Downloads/Assignment/MNIST/train9.csv\")"
   ]
  },
  {
   "cell_type": "code",
   "execution_count": 6,
   "metadata": {},
   "outputs": [],
   "source": [
    "label0['y'] = 0\n",
    "label1['y'] = 1\n",
    "label2['y'] = 2\n",
    "label3['y'] = 3\n",
    "label4['y'] = 4\n",
    "label5['y'] = 5\n",
    "label6['y'] = 6\n",
    "label7['y'] = 7\n",
    "label8['y'] = 8\n",
    "label9['y'] = 9"
   ]
  },
  {
   "cell_type": "code",
   "execution_count": 4,
   "metadata": {},
   "outputs": [],
   "source": [
    "label0_t = pd.read_csv(\"C:/Users/Akhilesh/Downloads/Assignment/MNIST/test0.csv\")\n",
    "label1_t = pd.read_csv(\"C:/Users/Akhilesh/Downloads/Assignment/MNIST/test1.csv\")\n",
    "label2_t = pd.read_csv(\"C:/Users/Akhilesh/Downloads/Assignment/MNIST/test2.csv\")\n",
    "label3_t = pd.read_csv(\"C:/Users/Akhilesh/Downloads/Assignment/MNIST/test3.csv\")\n",
    "label4_t = pd.read_csv(\"C:/Users/Akhilesh/Downloads/Assignment/MNIST/test4.csv\")\n",
    "label5_t = pd.read_csv(\"C:/Users/Akhilesh/Downloads/Assignment/MNIST/test5.csv\")\n",
    "label6_t = pd.read_csv(\"C:/Users/Akhilesh/Downloads/Assignment/MNIST/test6.csv\")\n",
    "label7_t = pd.read_csv(\"C:/Users/Akhilesh/Downloads/Assignment/MNIST/test7.csv\")\n",
    "label8_t = pd.read_csv(\"C:/Users/Akhilesh/Downloads/Assignment/MNIST/test8.csv\")\n",
    "label9_t = pd.read_csv(\"C:/Users/Akhilesh/Downloads/Assignment/MNIST/test9.csv\")"
   ]
  },
  {
   "cell_type": "code",
   "execution_count": 7,
   "metadata": {},
   "outputs": [],
   "source": [
    "label0_t['y'] = 0\n",
    "label1_t['y'] = 1\n",
    "label2_t['y'] = 2\n",
    "label3_t['y'] = 3\n",
    "label4_t['y'] = 4\n",
    "label5_t['y'] = 5\n",
    "label6_t['y'] = 6\n",
    "label7_t['y'] = 7\n",
    "label8_t['y'] = 8\n",
    "label9_t['y'] = 9"
   ]
  },
  {
   "cell_type": "code",
   "execution_count": 8,
   "metadata": {},
   "outputs": [],
   "source": [
    "train = pd.concat([label0,label1,label2,label3,label4,label5,label6,label7,label8,label9])"
   ]
  },
  {
   "cell_type": "code",
   "execution_count": 11,
   "metadata": {},
   "outputs": [
    {
     "data": {
      "text/html": [
       "<div>\n",
       "<style scoped>\n",
       "    .dataframe tbody tr th:only-of-type {\n",
       "        vertical-align: middle;\n",
       "    }\n",
       "\n",
       "    .dataframe tbody tr th {\n",
       "        vertical-align: top;\n",
       "    }\n",
       "\n",
       "    .dataframe thead th {\n",
       "        text-align: right;\n",
       "    }\n",
       "</style>\n",
       "<table border=\"1\" class=\"dataframe\">\n",
       "  <thead>\n",
       "    <tr style=\"text-align: right;\">\n",
       "      <th></th>\n",
       "      <th>Unnamed: 0</th>\n",
       "      <th>V1</th>\n",
       "      <th>V2</th>\n",
       "      <th>V3</th>\n",
       "      <th>V4</th>\n",
       "      <th>V5</th>\n",
       "      <th>V6</th>\n",
       "      <th>V7</th>\n",
       "      <th>V8</th>\n",
       "      <th>V9</th>\n",
       "      <th>...</th>\n",
       "      <th>V776</th>\n",
       "      <th>V777</th>\n",
       "      <th>V778</th>\n",
       "      <th>V779</th>\n",
       "      <th>V780</th>\n",
       "      <th>V781</th>\n",
       "      <th>V782</th>\n",
       "      <th>V783</th>\n",
       "      <th>V784</th>\n",
       "      <th>y</th>\n",
       "    </tr>\n",
       "  </thead>\n",
       "  <tbody>\n",
       "    <tr>\n",
       "      <td>0</td>\n",
       "      <td>4</td>\n",
       "      <td>0.0</td>\n",
       "      <td>0.0</td>\n",
       "      <td>0.0</td>\n",
       "      <td>0.0</td>\n",
       "      <td>0.0</td>\n",
       "      <td>0.0</td>\n",
       "      <td>0.0</td>\n",
       "      <td>0.0</td>\n",
       "      <td>0.0</td>\n",
       "      <td>...</td>\n",
       "      <td>0.0</td>\n",
       "      <td>0.0</td>\n",
       "      <td>0.0</td>\n",
       "      <td>0.0</td>\n",
       "      <td>0.0</td>\n",
       "      <td>0.0</td>\n",
       "      <td>0.0</td>\n",
       "      <td>0.0</td>\n",
       "      <td>0.0</td>\n",
       "      <td>0</td>\n",
       "    </tr>\n",
       "    <tr>\n",
       "      <td>1</td>\n",
       "      <td>7</td>\n",
       "      <td>0.0</td>\n",
       "      <td>0.0</td>\n",
       "      <td>0.0</td>\n",
       "      <td>0.0</td>\n",
       "      <td>0.0</td>\n",
       "      <td>0.0</td>\n",
       "      <td>0.0</td>\n",
       "      <td>0.0</td>\n",
       "      <td>0.0</td>\n",
       "      <td>...</td>\n",
       "      <td>0.0</td>\n",
       "      <td>0.0</td>\n",
       "      <td>0.0</td>\n",
       "      <td>0.0</td>\n",
       "      <td>0.0</td>\n",
       "      <td>0.0</td>\n",
       "      <td>0.0</td>\n",
       "      <td>0.0</td>\n",
       "      <td>0.0</td>\n",
       "      <td>0</td>\n",
       "    </tr>\n",
       "    <tr>\n",
       "      <td>2</td>\n",
       "      <td>12</td>\n",
       "      <td>0.0</td>\n",
       "      <td>0.0</td>\n",
       "      <td>0.0</td>\n",
       "      <td>0.0</td>\n",
       "      <td>0.0</td>\n",
       "      <td>0.0</td>\n",
       "      <td>0.0</td>\n",
       "      <td>0.0</td>\n",
       "      <td>0.0</td>\n",
       "      <td>...</td>\n",
       "      <td>0.0</td>\n",
       "      <td>0.0</td>\n",
       "      <td>0.0</td>\n",
       "      <td>0.0</td>\n",
       "      <td>0.0</td>\n",
       "      <td>0.0</td>\n",
       "      <td>0.0</td>\n",
       "      <td>0.0</td>\n",
       "      <td>0.0</td>\n",
       "      <td>0</td>\n",
       "    </tr>\n",
       "    <tr>\n",
       "      <td>3</td>\n",
       "      <td>13</td>\n",
       "      <td>0.0</td>\n",
       "      <td>0.0</td>\n",
       "      <td>0.0</td>\n",
       "      <td>0.0</td>\n",
       "      <td>0.0</td>\n",
       "      <td>0.0</td>\n",
       "      <td>0.0</td>\n",
       "      <td>0.0</td>\n",
       "      <td>0.0</td>\n",
       "      <td>...</td>\n",
       "      <td>0.0</td>\n",
       "      <td>0.0</td>\n",
       "      <td>0.0</td>\n",
       "      <td>0.0</td>\n",
       "      <td>0.0</td>\n",
       "      <td>0.0</td>\n",
       "      <td>0.0</td>\n",
       "      <td>0.0</td>\n",
       "      <td>0.0</td>\n",
       "      <td>0</td>\n",
       "    </tr>\n",
       "    <tr>\n",
       "      <td>4</td>\n",
       "      <td>15</td>\n",
       "      <td>0.0</td>\n",
       "      <td>0.0</td>\n",
       "      <td>0.0</td>\n",
       "      <td>0.0</td>\n",
       "      <td>0.0</td>\n",
       "      <td>0.0</td>\n",
       "      <td>0.0</td>\n",
       "      <td>0.0</td>\n",
       "      <td>0.0</td>\n",
       "      <td>...</td>\n",
       "      <td>0.0</td>\n",
       "      <td>0.0</td>\n",
       "      <td>0.0</td>\n",
       "      <td>0.0</td>\n",
       "      <td>0.0</td>\n",
       "      <td>0.0</td>\n",
       "      <td>0.0</td>\n",
       "      <td>0.0</td>\n",
       "      <td>0.0</td>\n",
       "      <td>0</td>\n",
       "    </tr>\n",
       "    <tr>\n",
       "      <td>5</td>\n",
       "      <td>18</td>\n",
       "      <td>0.0</td>\n",
       "      <td>0.0</td>\n",
       "      <td>0.0</td>\n",
       "      <td>0.0</td>\n",
       "      <td>0.0</td>\n",
       "      <td>0.0</td>\n",
       "      <td>0.0</td>\n",
       "      <td>0.0</td>\n",
       "      <td>0.0</td>\n",
       "      <td>...</td>\n",
       "      <td>0.0</td>\n",
       "      <td>0.0</td>\n",
       "      <td>0.0</td>\n",
       "      <td>0.0</td>\n",
       "      <td>0.0</td>\n",
       "      <td>0.0</td>\n",
       "      <td>0.0</td>\n",
       "      <td>0.0</td>\n",
       "      <td>0.0</td>\n",
       "      <td>0</td>\n",
       "    </tr>\n",
       "    <tr>\n",
       "      <td>6</td>\n",
       "      <td>20</td>\n",
       "      <td>0.0</td>\n",
       "      <td>0.0</td>\n",
       "      <td>0.0</td>\n",
       "      <td>0.0</td>\n",
       "      <td>0.0</td>\n",
       "      <td>0.0</td>\n",
       "      <td>0.0</td>\n",
       "      <td>0.0</td>\n",
       "      <td>0.0</td>\n",
       "      <td>...</td>\n",
       "      <td>0.0</td>\n",
       "      <td>0.0</td>\n",
       "      <td>0.0</td>\n",
       "      <td>0.0</td>\n",
       "      <td>0.0</td>\n",
       "      <td>0.0</td>\n",
       "      <td>0.0</td>\n",
       "      <td>0.0</td>\n",
       "      <td>0.0</td>\n",
       "      <td>0</td>\n",
       "    </tr>\n",
       "    <tr>\n",
       "      <td>7</td>\n",
       "      <td>21</td>\n",
       "      <td>0.0</td>\n",
       "      <td>0.0</td>\n",
       "      <td>0.0</td>\n",
       "      <td>0.0</td>\n",
       "      <td>0.0</td>\n",
       "      <td>0.0</td>\n",
       "      <td>0.0</td>\n",
       "      <td>0.0</td>\n",
       "      <td>0.0</td>\n",
       "      <td>...</td>\n",
       "      <td>0.0</td>\n",
       "      <td>0.0</td>\n",
       "      <td>0.0</td>\n",
       "      <td>0.0</td>\n",
       "      <td>0.0</td>\n",
       "      <td>0.0</td>\n",
       "      <td>0.0</td>\n",
       "      <td>0.0</td>\n",
       "      <td>0.0</td>\n",
       "      <td>0</td>\n",
       "    </tr>\n",
       "    <tr>\n",
       "      <td>8</td>\n",
       "      <td>24</td>\n",
       "      <td>0.0</td>\n",
       "      <td>0.0</td>\n",
       "      <td>0.0</td>\n",
       "      <td>0.0</td>\n",
       "      <td>0.0</td>\n",
       "      <td>0.0</td>\n",
       "      <td>0.0</td>\n",
       "      <td>0.0</td>\n",
       "      <td>0.0</td>\n",
       "      <td>...</td>\n",
       "      <td>0.0</td>\n",
       "      <td>0.0</td>\n",
       "      <td>0.0</td>\n",
       "      <td>0.0</td>\n",
       "      <td>0.0</td>\n",
       "      <td>0.0</td>\n",
       "      <td>0.0</td>\n",
       "      <td>0.0</td>\n",
       "      <td>0.0</td>\n",
       "      <td>0</td>\n",
       "    </tr>\n",
       "    <tr>\n",
       "      <td>9</td>\n",
       "      <td>25</td>\n",
       "      <td>0.0</td>\n",
       "      <td>0.0</td>\n",
       "      <td>0.0</td>\n",
       "      <td>0.0</td>\n",
       "      <td>0.0</td>\n",
       "      <td>0.0</td>\n",
       "      <td>0.0</td>\n",
       "      <td>0.0</td>\n",
       "      <td>0.0</td>\n",
       "      <td>...</td>\n",
       "      <td>0.0</td>\n",
       "      <td>0.0</td>\n",
       "      <td>0.0</td>\n",
       "      <td>0.0</td>\n",
       "      <td>0.0</td>\n",
       "      <td>0.0</td>\n",
       "      <td>0.0</td>\n",
       "      <td>0.0</td>\n",
       "      <td>0.0</td>\n",
       "      <td>0</td>\n",
       "    </tr>\n",
       "  </tbody>\n",
       "</table>\n",
       "<p>10 rows × 786 columns</p>\n",
       "</div>"
      ],
      "text/plain": [
       "  Unnamed: 0   V1   V2   V3   V4   V5   V6   V7   V8   V9  ...  V776  V777  \\\n",
       "0          4  0.0  0.0  0.0  0.0  0.0  0.0  0.0  0.0  0.0  ...   0.0   0.0   \n",
       "1          7  0.0  0.0  0.0  0.0  0.0  0.0  0.0  0.0  0.0  ...   0.0   0.0   \n",
       "2         12  0.0  0.0  0.0  0.0  0.0  0.0  0.0  0.0  0.0  ...   0.0   0.0   \n",
       "3         13  0.0  0.0  0.0  0.0  0.0  0.0  0.0  0.0  0.0  ...   0.0   0.0   \n",
       "4         15  0.0  0.0  0.0  0.0  0.0  0.0  0.0  0.0  0.0  ...   0.0   0.0   \n",
       "5         18  0.0  0.0  0.0  0.0  0.0  0.0  0.0  0.0  0.0  ...   0.0   0.0   \n",
       "6         20  0.0  0.0  0.0  0.0  0.0  0.0  0.0  0.0  0.0  ...   0.0   0.0   \n",
       "7         21  0.0  0.0  0.0  0.0  0.0  0.0  0.0  0.0  0.0  ...   0.0   0.0   \n",
       "8         24  0.0  0.0  0.0  0.0  0.0  0.0  0.0  0.0  0.0  ...   0.0   0.0   \n",
       "9         25  0.0  0.0  0.0  0.0  0.0  0.0  0.0  0.0  0.0  ...   0.0   0.0   \n",
       "\n",
       "   V778  V779  V780  V781  V782  V783  V784  y  \n",
       "0   0.0   0.0   0.0   0.0   0.0   0.0   0.0  0  \n",
       "1   0.0   0.0   0.0   0.0   0.0   0.0   0.0  0  \n",
       "2   0.0   0.0   0.0   0.0   0.0   0.0   0.0  0  \n",
       "3   0.0   0.0   0.0   0.0   0.0   0.0   0.0  0  \n",
       "4   0.0   0.0   0.0   0.0   0.0   0.0   0.0  0  \n",
       "5   0.0   0.0   0.0   0.0   0.0   0.0   0.0  0  \n",
       "6   0.0   0.0   0.0   0.0   0.0   0.0   0.0  0  \n",
       "7   0.0   0.0   0.0   0.0   0.0   0.0   0.0  0  \n",
       "8   0.0   0.0   0.0   0.0   0.0   0.0   0.0  0  \n",
       "9   0.0   0.0   0.0   0.0   0.0   0.0   0.0  0  \n",
       "\n",
       "[10 rows x 786 columns]"
      ]
     },
     "execution_count": 11,
     "metadata": {},
     "output_type": "execute_result"
    }
   ],
   "source": [
    "train.head(10)"
   ]
  },
  {
   "cell_type": "code",
   "execution_count": 10,
   "metadata": {},
   "outputs": [],
   "source": [
    "test = pd.concat([label0_t,label1_t,label2_t,label3_t,label4_t,label5_t,label6_t,label7_t,label8_t,label9_t])"
   ]
  },
  {
   "cell_type": "code",
   "execution_count": 12,
   "metadata": {},
   "outputs": [
    {
     "data": {
      "text/html": [
       "<div>\n",
       "<style scoped>\n",
       "    .dataframe tbody tr th:only-of-type {\n",
       "        vertical-align: middle;\n",
       "    }\n",
       "\n",
       "    .dataframe tbody tr th {\n",
       "        vertical-align: top;\n",
       "    }\n",
       "\n",
       "    .dataframe thead th {\n",
       "        text-align: right;\n",
       "    }\n",
       "</style>\n",
       "<table border=\"1\" class=\"dataframe\">\n",
       "  <thead>\n",
       "    <tr style=\"text-align: right;\">\n",
       "      <th></th>\n",
       "      <th>Unnamed: 0</th>\n",
       "      <th>V1</th>\n",
       "      <th>V2</th>\n",
       "      <th>V3</th>\n",
       "      <th>V4</th>\n",
       "      <th>V5</th>\n",
       "      <th>V6</th>\n",
       "      <th>V7</th>\n",
       "      <th>V8</th>\n",
       "      <th>V9</th>\n",
       "      <th>...</th>\n",
       "      <th>V776</th>\n",
       "      <th>V777</th>\n",
       "      <th>V778</th>\n",
       "      <th>V779</th>\n",
       "      <th>V780</th>\n",
       "      <th>V781</th>\n",
       "      <th>V782</th>\n",
       "      <th>V783</th>\n",
       "      <th>V784</th>\n",
       "      <th>y</th>\n",
       "    </tr>\n",
       "  </thead>\n",
       "  <tbody>\n",
       "    <tr>\n",
       "      <td>0</td>\n",
       "      <td>1</td>\n",
       "      <td>0.0</td>\n",
       "      <td>0.0</td>\n",
       "      <td>0.0</td>\n",
       "      <td>0.0</td>\n",
       "      <td>0.0</td>\n",
       "      <td>0.0</td>\n",
       "      <td>0.0</td>\n",
       "      <td>0.0</td>\n",
       "      <td>0.0</td>\n",
       "      <td>...</td>\n",
       "      <td>0.0</td>\n",
       "      <td>0.0</td>\n",
       "      <td>0.0</td>\n",
       "      <td>0.0</td>\n",
       "      <td>0.0</td>\n",
       "      <td>0.0</td>\n",
       "      <td>0.0</td>\n",
       "      <td>0.0</td>\n",
       "      <td>0.0</td>\n",
       "      <td>0</td>\n",
       "    </tr>\n",
       "    <tr>\n",
       "      <td>1</td>\n",
       "      <td>2</td>\n",
       "      <td>0.0</td>\n",
       "      <td>0.0</td>\n",
       "      <td>0.0</td>\n",
       "      <td>0.0</td>\n",
       "      <td>0.0</td>\n",
       "      <td>0.0</td>\n",
       "      <td>0.0</td>\n",
       "      <td>0.0</td>\n",
       "      <td>0.0</td>\n",
       "      <td>...</td>\n",
       "      <td>0.0</td>\n",
       "      <td>0.0</td>\n",
       "      <td>0.0</td>\n",
       "      <td>0.0</td>\n",
       "      <td>0.0</td>\n",
       "      <td>0.0</td>\n",
       "      <td>0.0</td>\n",
       "      <td>0.0</td>\n",
       "      <td>0.0</td>\n",
       "      <td>0</td>\n",
       "    </tr>\n",
       "    <tr>\n",
       "      <td>2</td>\n",
       "      <td>3</td>\n",
       "      <td>0.0</td>\n",
       "      <td>0.0</td>\n",
       "      <td>0.0</td>\n",
       "      <td>0.0</td>\n",
       "      <td>0.0</td>\n",
       "      <td>0.0</td>\n",
       "      <td>0.0</td>\n",
       "      <td>0.0</td>\n",
       "      <td>0.0</td>\n",
       "      <td>...</td>\n",
       "      <td>0.0</td>\n",
       "      <td>0.0</td>\n",
       "      <td>0.0</td>\n",
       "      <td>0.0</td>\n",
       "      <td>0.0</td>\n",
       "      <td>0.0</td>\n",
       "      <td>0.0</td>\n",
       "      <td>0.0</td>\n",
       "      <td>0.0</td>\n",
       "      <td>0</td>\n",
       "    </tr>\n",
       "    <tr>\n",
       "      <td>3</td>\n",
       "      <td>5</td>\n",
       "      <td>0.0</td>\n",
       "      <td>0.0</td>\n",
       "      <td>0.0</td>\n",
       "      <td>0.0</td>\n",
       "      <td>0.0</td>\n",
       "      <td>0.0</td>\n",
       "      <td>0.0</td>\n",
       "      <td>0.0</td>\n",
       "      <td>0.0</td>\n",
       "      <td>...</td>\n",
       "      <td>0.0</td>\n",
       "      <td>0.0</td>\n",
       "      <td>0.0</td>\n",
       "      <td>0.0</td>\n",
       "      <td>0.0</td>\n",
       "      <td>0.0</td>\n",
       "      <td>0.0</td>\n",
       "      <td>0.0</td>\n",
       "      <td>0.0</td>\n",
       "      <td>0</td>\n",
       "    </tr>\n",
       "    <tr>\n",
       "      <td>4</td>\n",
       "      <td>6</td>\n",
       "      <td>0.0</td>\n",
       "      <td>0.0</td>\n",
       "      <td>0.0</td>\n",
       "      <td>0.0</td>\n",
       "      <td>0.0</td>\n",
       "      <td>0.0</td>\n",
       "      <td>0.0</td>\n",
       "      <td>0.0</td>\n",
       "      <td>0.0</td>\n",
       "      <td>...</td>\n",
       "      <td>0.0</td>\n",
       "      <td>0.0</td>\n",
       "      <td>0.0</td>\n",
       "      <td>0.0</td>\n",
       "      <td>0.0</td>\n",
       "      <td>0.0</td>\n",
       "      <td>0.0</td>\n",
       "      <td>0.0</td>\n",
       "      <td>0.0</td>\n",
       "      <td>0</td>\n",
       "    </tr>\n",
       "    <tr>\n",
       "      <td>5</td>\n",
       "      <td>8</td>\n",
       "      <td>0.0</td>\n",
       "      <td>0.0</td>\n",
       "      <td>0.0</td>\n",
       "      <td>0.0</td>\n",
       "      <td>0.0</td>\n",
       "      <td>0.0</td>\n",
       "      <td>0.0</td>\n",
       "      <td>0.0</td>\n",
       "      <td>0.0</td>\n",
       "      <td>...</td>\n",
       "      <td>0.0</td>\n",
       "      <td>0.0</td>\n",
       "      <td>0.0</td>\n",
       "      <td>0.0</td>\n",
       "      <td>0.0</td>\n",
       "      <td>0.0</td>\n",
       "      <td>0.0</td>\n",
       "      <td>0.0</td>\n",
       "      <td>0.0</td>\n",
       "      <td>0</td>\n",
       "    </tr>\n",
       "    <tr>\n",
       "      <td>6</td>\n",
       "      <td>9</td>\n",
       "      <td>0.0</td>\n",
       "      <td>0.0</td>\n",
       "      <td>0.0</td>\n",
       "      <td>0.0</td>\n",
       "      <td>0.0</td>\n",
       "      <td>0.0</td>\n",
       "      <td>0.0</td>\n",
       "      <td>0.0</td>\n",
       "      <td>0.0</td>\n",
       "      <td>...</td>\n",
       "      <td>0.0</td>\n",
       "      <td>0.0</td>\n",
       "      <td>0.0</td>\n",
       "      <td>0.0</td>\n",
       "      <td>0.0</td>\n",
       "      <td>0.0</td>\n",
       "      <td>0.0</td>\n",
       "      <td>0.0</td>\n",
       "      <td>0.0</td>\n",
       "      <td>0</td>\n",
       "    </tr>\n",
       "    <tr>\n",
       "      <td>7</td>\n",
       "      <td>10</td>\n",
       "      <td>0.0</td>\n",
       "      <td>0.0</td>\n",
       "      <td>0.0</td>\n",
       "      <td>0.0</td>\n",
       "      <td>0.0</td>\n",
       "      <td>0.0</td>\n",
       "      <td>0.0</td>\n",
       "      <td>0.0</td>\n",
       "      <td>0.0</td>\n",
       "      <td>...</td>\n",
       "      <td>0.0</td>\n",
       "      <td>0.0</td>\n",
       "      <td>0.0</td>\n",
       "      <td>0.0</td>\n",
       "      <td>0.0</td>\n",
       "      <td>0.0</td>\n",
       "      <td>0.0</td>\n",
       "      <td>0.0</td>\n",
       "      <td>0.0</td>\n",
       "      <td>0</td>\n",
       "    </tr>\n",
       "    <tr>\n",
       "      <td>8</td>\n",
       "      <td>11</td>\n",
       "      <td>0.0</td>\n",
       "      <td>0.0</td>\n",
       "      <td>0.0</td>\n",
       "      <td>0.0</td>\n",
       "      <td>0.0</td>\n",
       "      <td>0.0</td>\n",
       "      <td>0.0</td>\n",
       "      <td>0.0</td>\n",
       "      <td>0.0</td>\n",
       "      <td>...</td>\n",
       "      <td>0.0</td>\n",
       "      <td>0.0</td>\n",
       "      <td>0.0</td>\n",
       "      <td>0.0</td>\n",
       "      <td>0.0</td>\n",
       "      <td>0.0</td>\n",
       "      <td>0.0</td>\n",
       "      <td>0.0</td>\n",
       "      <td>0.0</td>\n",
       "      <td>0</td>\n",
       "    </tr>\n",
       "    <tr>\n",
       "      <td>9</td>\n",
       "      <td>14</td>\n",
       "      <td>0.0</td>\n",
       "      <td>0.0</td>\n",
       "      <td>0.0</td>\n",
       "      <td>0.0</td>\n",
       "      <td>0.0</td>\n",
       "      <td>0.0</td>\n",
       "      <td>0.0</td>\n",
       "      <td>0.0</td>\n",
       "      <td>0.0</td>\n",
       "      <td>...</td>\n",
       "      <td>0.0</td>\n",
       "      <td>0.0</td>\n",
       "      <td>0.0</td>\n",
       "      <td>0.0</td>\n",
       "      <td>0.0</td>\n",
       "      <td>0.0</td>\n",
       "      <td>0.0</td>\n",
       "      <td>0.0</td>\n",
       "      <td>0.0</td>\n",
       "      <td>0</td>\n",
       "    </tr>\n",
       "  </tbody>\n",
       "</table>\n",
       "<p>10 rows × 786 columns</p>\n",
       "</div>"
      ],
      "text/plain": [
       "  Unnamed: 0   V1   V2   V3   V4   V5   V6   V7   V8   V9  ...  V776  V777  \\\n",
       "0          1  0.0  0.0  0.0  0.0  0.0  0.0  0.0  0.0  0.0  ...   0.0   0.0   \n",
       "1          2  0.0  0.0  0.0  0.0  0.0  0.0  0.0  0.0  0.0  ...   0.0   0.0   \n",
       "2          3  0.0  0.0  0.0  0.0  0.0  0.0  0.0  0.0  0.0  ...   0.0   0.0   \n",
       "3          5  0.0  0.0  0.0  0.0  0.0  0.0  0.0  0.0  0.0  ...   0.0   0.0   \n",
       "4          6  0.0  0.0  0.0  0.0  0.0  0.0  0.0  0.0  0.0  ...   0.0   0.0   \n",
       "5          8  0.0  0.0  0.0  0.0  0.0  0.0  0.0  0.0  0.0  ...   0.0   0.0   \n",
       "6          9  0.0  0.0  0.0  0.0  0.0  0.0  0.0  0.0  0.0  ...   0.0   0.0   \n",
       "7         10  0.0  0.0  0.0  0.0  0.0  0.0  0.0  0.0  0.0  ...   0.0   0.0   \n",
       "8         11  0.0  0.0  0.0  0.0  0.0  0.0  0.0  0.0  0.0  ...   0.0   0.0   \n",
       "9         14  0.0  0.0  0.0  0.0  0.0  0.0  0.0  0.0  0.0  ...   0.0   0.0   \n",
       "\n",
       "   V778  V779  V780  V781  V782  V783  V784  y  \n",
       "0   0.0   0.0   0.0   0.0   0.0   0.0   0.0  0  \n",
       "1   0.0   0.0   0.0   0.0   0.0   0.0   0.0  0  \n",
       "2   0.0   0.0   0.0   0.0   0.0   0.0   0.0  0  \n",
       "3   0.0   0.0   0.0   0.0   0.0   0.0   0.0  0  \n",
       "4   0.0   0.0   0.0   0.0   0.0   0.0   0.0  0  \n",
       "5   0.0   0.0   0.0   0.0   0.0   0.0   0.0  0  \n",
       "6   0.0   0.0   0.0   0.0   0.0   0.0   0.0  0  \n",
       "7   0.0   0.0   0.0   0.0   0.0   0.0   0.0  0  \n",
       "8   0.0   0.0   0.0   0.0   0.0   0.0   0.0  0  \n",
       "9   0.0   0.0   0.0   0.0   0.0   0.0   0.0  0  \n",
       "\n",
       "[10 rows x 786 columns]"
      ]
     },
     "execution_count": 12,
     "metadata": {},
     "output_type": "execute_result"
    }
   ],
   "source": [
    "test.head(10)"
   ]
  },
  {
   "cell_type": "code",
   "execution_count": 13,
   "metadata": {},
   "outputs": [],
   "source": [
    "train[train == np.Inf] = np.NaN\n",
    "test[test == np.Inf] = np.NaN"
   ]
  },
  {
   "cell_type": "code",
   "execution_count": 14,
   "metadata": {},
   "outputs": [],
   "source": [
    "train[:] = np.nan_to_num(train)\n",
    "test[:]=np.nan_to_num(test)"
   ]
  },
  {
   "cell_type": "code",
   "execution_count": 16,
   "metadata": {},
   "outputs": [
    {
     "data": {
      "text/plain": [
       "Unnamed: 0      4\n",
       "V1            414\n",
       "V2            414\n",
       "V3            414\n",
       "V4            414\n",
       "V5            414\n",
       "V6            414\n",
       "V7            414\n",
       "V8            414\n",
       "V9            414\n",
       "dtype: int64"
      ]
     },
     "execution_count": 16,
     "metadata": {},
     "output_type": "execute_result"
    }
   ],
   "source": [
    "test_nul = test.isna().sum()\n",
    "train_nul = train.isna().sum()\n",
    "train_nul.head(10)"
   ]
  },
  {
   "cell_type": "code",
   "execution_count": 18,
   "metadata": {},
   "outputs": [],
   "source": [
    "train = train.dropna()\n",
    "test = test.dropna()"
   ]
  },
  {
   "cell_type": "code",
   "execution_count": 19,
   "metadata": {},
   "outputs": [],
   "source": [
    "dtrain=train.astype(int)\n",
    "dtest=test.astype(int)"
   ]
  },
  {
   "cell_type": "code",
   "execution_count": 20,
   "metadata": {},
   "outputs": [],
   "source": [
    "dtrain = dtrain.reset_index(drop=True)\n",
    "dtest=dtest.reset_index(drop=True)"
   ]
  },
  {
   "cell_type": "code",
   "execution_count": 22,
   "metadata": {},
   "outputs": [
    {
     "name": "stdout",
     "output_type": "stream",
     "text": [
      "1    4084\n",
      "7    3794\n",
      "3    3712\n",
      "2    3601\n",
      "9    3594\n",
      "0    3583\n",
      "6    3580\n",
      "8    3540\n",
      "4    3535\n",
      "5    3263\n",
      "Name: y, dtype: int64\n"
     ]
    }
   ],
   "source": [
    "print(dtrain['y'].value_counts())"
   ]
  },
  {
   "cell_type": "code",
   "execution_count": 23,
   "metadata": {},
   "outputs": [],
   "source": [
    "digit_dlevel = [0]*45\n",
    "accuracy_train=[0]*45\n",
    "accuracy_test=[0]*45"
   ]
  },
  {
   "cell_type": "code",
   "execution_count": 24,
   "metadata": {},
   "outputs": [],
   "source": [
    "SVM_linear=svm.SVC(kernel='linear',max_iter=100)\n",
    "pair = combinations(np.arange(0,10), 2)\n",
    "for i,n in zip(list(pair), range(len(accuracy_train))):\n",
    "        digit_dlevel[n] = i\n",
    "        d_train = dtrain[dtrain['y'].isin(i)]\n",
    "        trX= d_train.drop('y', axis = 1)\n",
    "        trX= trX.div(255.0)\n",
    "        trY= d_train['y']\n",
    "        d_test = dtest[dtest['y'].isin(i)]\n",
    "        teX = dtest.drop('y', axis = 1)\n",
    "        teX = teX.div(255.0)\n",
    "        teY = d_test['y']\n",
    "        SVM.fit(trX, trY)\n",
    "        accuracy_train[n] = SVM_linear.score(trX, trY) * 100\n",
    "        accuracy_test[n] = SVM_linear.score(teX, teY) * 100"
   ]
  },
  {
   "cell_type": "code",
   "execution_count": 25,
   "metadata": {},
   "outputs": [
    {
     "name": "stdout",
     "output_type": "stream",
     "text": [
      "59.2388306674021 28 (3, 8)\n"
     ]
    }
   ],
   "source": [
    "print (min(accuracy_train),np.argmin(accuracy_train),digit[np.argmin(accuracy_train)])"
   ]
  },
  {
   "cell_type": "code",
   "execution_count": 29,
   "metadata": {},
   "outputs": [
    {
     "data": {
      "text/plain": [
       "array([ 0,  1,  2, 10,  4,  5,  6,  7,  9], dtype=int64)"
      ]
     },
     "execution_count": 29,
     "metadata": {},
     "output_type": "execute_result"
    }
   ],
   "source": [
    "dtrain['y'].replace(to_replace=[3,8],value=10,inplace=True)\n",
    "dtest['y'].replace(to_replace=[3,8],value=10,inplace=True)\n",
    "dtrain['y'].unique()"
   ]
  },
  {
   "cell_type": "code",
   "execution_count": 32,
   "metadata": {},
   "outputs": [],
   "source": [
    "digit_layer1=[(0,10),(1,10),(2,10),(4,10),(5,10),(6,10),(7,10),(9,10)]\n",
    "accuracy_train_1=[0]*8\n",
    "accuracy_test_1=[0]*8"
   ]
  },
  {
   "cell_type": "code",
   "execution_count": 33,
   "metadata": {},
   "outputs": [],
   "source": [
    "SVM_linear=svm.SVC(kernel='linear',max_iter=100)\n",
    "pair = combinations(np.arange(0,10), 2)\n",
    "for i,n in zip(list(pair), range(len(accuracy_train_1))):\n",
    "        digit_layer1[n] = i\n",
    "        d_train = dtrain[dtrain['y'].isin(i)]\n",
    "        trX= d_train.drop('y', axis = 1)\n",
    "        trX= trX.div(255.0)\n",
    "        trY= d_train['y']\n",
    "        d_test = dtest[dtest['y'].isin(i)]\n",
    "        teX = dtest.drop('y', axis = 1)\n",
    "        teX = teX.div(255.0)\n",
    "        teY = d_test['y']\n",
    "        SVM.fit(trX, trY)\n",
    "        accuracy_train_1[n] = SVM_linear.score(trX, trY) * 100\n",
    "        accuracy_test_1[n] = SVM_linear.score(teX, teY) * 100"
   ]
  },
  {
   "cell_type": "code",
   "execution_count": 34,
   "metadata": {},
   "outputs": [
    {
     "name": "stdout",
     "output_type": "stream",
     "text": [
      "61.87367678193366 1 (1, 10)\n"
     ]
    }
   ],
   "source": [
    "print(min(accuracy_train_1),np.argmin(accuracy_train_1),digit_one[np.argmin(accuracy_train_1)])"
   ]
  },
  {
   "cell_type": "code",
   "execution_count": 35,
   "metadata": {},
   "outputs": [
    {
     "data": {
      "text/plain": [
       "array([ 0, 11,  2,  4,  5,  6,  7,  9], dtype=int64)"
      ]
     },
     "execution_count": 35,
     "metadata": {},
     "output_type": "execute_result"
    }
   ],
   "source": [
    "dtrain['y'].replace(to_replace=[1,10],value=11,inplace=True)\n",
    "dtest['y'].replace(to_replace=[1,10],value=11,inplace=True)\n",
    "dtrain['y'].unique()"
   ]
  },
  {
   "cell_type": "code",
   "execution_count": 36,
   "metadata": {},
   "outputs": [],
   "source": [
    "digit_layer2=[(0,11),(2,11),(4,11),(5,11),(6,11),(7,11),(9,11)]\n",
    "accuracy_train_2=[0]*7\n",
    "accuracy_test_2=[0]*7"
   ]
  },
  {
   "cell_type": "code",
   "execution_count": 37,
   "metadata": {},
   "outputs": [],
   "source": [
    "SVM_linear=svm.SVC(kernel='linear',max_iter=100)\n",
    "pair = combinations(np.arange(0,10), 2)\n",
    "for i,n in zip(list(pair), range(len(accuracy_train_2))):\n",
    "        digit_layer2[n] = i\n",
    "        d_train = dtrain[dtrain['y'].isin(i)]\n",
    "        trX= d_train.drop('y', axis = 1)\n",
    "        trX= trX.div(255.0)\n",
    "        trY= d_train['y']\n",
    "        d_test = dtest[dtest['y'].isin(i)]\n",
    "        teX = dtest.drop('y', axis = 1)\n",
    "        teX = teX.div(255.0)\n",
    "        teY = d_test['y']\n",
    "        SVM.fit(trX, trY)\n",
    "        accuracy_train_2[n] = SVM_linear.score(trX, trY) * 100\n",
    "        accuracy_test_2[n] = SVM_linear.score(teX, teY) * 100"
   ]
  },
  {
   "cell_type": "code",
   "execution_count": 38,
   "metadata": {},
   "outputs": [
    {
     "name": "stdout",
     "output_type": "stream",
     "text": [
      "58.52580839526009 1 (2, 11)\n"
     ]
    }
   ],
   "source": [
    "print(min(accuracy_train_2),np.argmin(accuracy_train_2),digit_two[np.argmin(accuracy_train_2)])"
   ]
  },
  {
   "cell_type": "code",
   "execution_count": 39,
   "metadata": {},
   "outputs": [
    {
     "data": {
      "text/plain": [
       "array([ 0, 12,  4,  5,  6,  7,  9], dtype=int64)"
      ]
     },
     "execution_count": 39,
     "metadata": {},
     "output_type": "execute_result"
    }
   ],
   "source": [
    "dtrain['y'].replace(to_replace=[2,11],value=12,inplace=True)\n",
    "dtest['y'].replace(to_replace=[2,11],value=12,inplace=True)\n",
    "dtrain['y'].unique()"
   ]
  },
  {
   "cell_type": "code",
   "execution_count": 40,
   "metadata": {},
   "outputs": [],
   "source": [
    "digit_layer3=[(0,12),(4,12),(5,12),(6,12),(7,12),(9,12)]\n",
    "accuracy_train_3=[0]*6\n",
    "accuracy_test_3=[0]*6"
   ]
  },
  {
   "cell_type": "code",
   "execution_count": 41,
   "metadata": {},
   "outputs": [],
   "source": [
    "SVM_linear=svm.SVC(kernel='linear',max_iter=100)\n",
    "pair = combinations(np.arange(0,10), 2)\n",
    "for i,n in zip(list(pair), range(len(accuracy_train_3))):\n",
    "        digit_layer_3[n] = i\n",
    "        d_train = dtrain[dtrain['y'].isin(i)]\n",
    "        trX= d_train.drop('y', axis = 1)\n",
    "        trX= trX.div(255.0)\n",
    "        trY= d_train['y']\n",
    "        d_test = dtest[dtest['y'].isin(i)]\n",
    "        teX = dtest.drop('y', axis = 1)\n",
    "        teX = teX.div(255.0)\n",
    "        teY = d_test['y']\n",
    "        SVM.fit(trX, trY)\n",
    "        accuracy_train_3[n] = SVM_linear.score(trX, trY) * 100\n",
    "        accuracy_test_3[n] = SVM_linear.score(teX, teY) * 100"
   ]
  },
  {
   "cell_type": "code",
   "execution_count": 42,
   "metadata": {},
   "outputs": [
    {
     "name": "stdout",
     "output_type": "stream",
     "text": [
      "66.6043956043956 2 (5, 12)\n"
     ]
    }
   ],
   "source": [
    "print(min(accuracy_train_3),np.argmin(accuracy_train_3),digit_three[np.argmin(accuracy_train_3)])"
   ]
  },
  {
   "cell_type": "code",
   "execution_count": 43,
   "metadata": {},
   "outputs": [
    {
     "data": {
      "text/plain": [
       "array([ 0, 13,  4,  6,  7,  9], dtype=int64)"
      ]
     },
     "execution_count": 43,
     "metadata": {},
     "output_type": "execute_result"
    }
   ],
   "source": [
    "dtrain['y'].replace(to_replace=[5,12],value=13,inplace=True)\n",
    "dtest['y'].replace(to_replace=[5,12],value=13,inplace=True)\n",
    "dtrain['y'].unique()"
   ]
  },
  {
   "cell_type": "code",
   "execution_count": 44,
   "metadata": {},
   "outputs": [],
   "source": [
    "digit_layer_4=[(0,13),(4,13),(6,13),(7,13),(9,13)]\n",
    "accuracy_train_4=[0]*5\n",
    "accuracy_test_4=[0]*5"
   ]
  },
  {
   "cell_type": "code",
   "execution_count": 45,
   "metadata": {},
   "outputs": [],
   "source": [
    "SVM_linear=svm.SVC(kernel='linear',max_iter=100)\n",
    "pair = combinations(np.arange(0,10), 2)\n",
    "for i,n in zip(list(pair), range(len(accuracy_train_4))):\n",
    "        digit_layer_4[n] = i\n",
    "        d_train = dtrain[dtrain['y'].isin(i)]\n",
    "        trX= d_train.drop('y', axis = 1)\n",
    "        trX= trX.div(255.0)\n",
    "        trY= d_train['y']\n",
    "        d_test = dtest[dtest['y'].isin(i)]\n",
    "        teX = dtest.drop('y', axis = 1)\n",
    "        teX = teX.div(255.0)\n",
    "        teY = d_test['y']\n",
    "        SVM.fit(trX, trY)\n",
    "        accuracy_train_4[n] = SVM_linear.score(trX, trY) * 100\n",
    "        accuracy_test_4[n] = SVM_linear.score(teX, teY) * 100"
   ]
  },
  {
   "cell_type": "code",
   "execution_count": 46,
   "metadata": {},
   "outputs": [
    {
     "name": "stdout",
     "output_type": "stream",
     "text": [
      "62.50795671546785 3 (7, 13)\n"
     ]
    }
   ],
   "source": [
    "print(min(accuracy_train_4),np.argmin(accuracy_train_4),digit_four[np.argmin(accuracy_train_4)])"
   ]
  },
  {
   "cell_type": "code",
   "execution_count": 47,
   "metadata": {},
   "outputs": [
    {
     "data": {
      "text/plain": [
       "array([ 0, 14,  4,  6,  9], dtype=int64)"
      ]
     },
     "execution_count": 47,
     "metadata": {},
     "output_type": "execute_result"
    }
   ],
   "source": [
    "dtrain['y'].replace(to_replace=[7,13],value=14,inplace=True)\n",
    "dtest['y'].replace(to_replace=[7,13],value=14,inplace=True)\n",
    "dtrain['y'].unique()"
   ]
  },
  {
   "cell_type": "code",
   "execution_count": 48,
   "metadata": {},
   "outputs": [],
   "source": [
    "digit_layer_5=[(0,14),(4,14),(6,14),(9,14)]\n",
    "accuracy_train_5=[0]*4\n",
    "accuracy_test_5=[0]*4"
   ]
  },
  {
   "cell_type": "code",
   "execution_count": 49,
   "metadata": {},
   "outputs": [],
   "source": [
    "SVM_linear=svm.SVC(kernel='linear',max_iter=100)\n",
    "pair = combinations(np.arange(0,10), 2)\n",
    "for i,n in zip(list(pair), range(len(accuracy_train_5))):\n",
    "        digit_dlevel_5[n] = i\n",
    "        d_train = dtrain[dtrain['y'].isin(i)]\n",
    "        trX= d_train.drop('y', axis = 1)\n",
    "        trX= trX.div(255.0)\n",
    "        trY= d_train['y']\n",
    "        d_test = dtest[dtest['y'].isin(i)]\n",
    "        teX = dtest.drop('y', axis = 1)\n",
    "        teX = teX.div(255.0)\n",
    "        teY = d_test['y']\n",
    "        SVM.fit(trX, trY)\n",
    "        accuracy_train_5[n] = SVM_linear.score(trX, trY) * 100\n",
    "        accuracy_test_5[n] = SVM_linear.score(teX, teY) * 100"
   ]
  },
  {
   "cell_type": "code",
   "execution_count": 50,
   "metadata": {},
   "outputs": [
    {
     "name": "stdout",
     "output_type": "stream",
     "text": [
      "55.572924808503984 3 (9, 14)\n"
     ]
    }
   ],
   "source": [
    "print(min(accuracy_test_5),np.argmin(accuracy_test_5),digit_five[np.argmin(accuracy_test_5)])"
   ]
  },
  {
   "cell_type": "code",
   "execution_count": 51,
   "metadata": {},
   "outputs": [
    {
     "data": {
      "text/plain": [
       "array([ 0, 15,  4,  6], dtype=int64)"
      ]
     },
     "execution_count": 51,
     "metadata": {},
     "output_type": "execute_result"
    }
   ],
   "source": [
    "dtrain['y'].replace(to_replace=[9,14],value=15,inplace=True)\n",
    "dtest['y'].replace(to_replace=[9,14],value=15,inplace=True)\n",
    "dtrain['y'].unique()"
   ]
  },
  {
   "cell_type": "code",
   "execution_count": 52,
   "metadata": {},
   "outputs": [],
   "source": [
    "digit_layer_6=[(0,15),(4,15),(6,15)]\n",
    "accuracy_train_6=[0]*3\n",
    "accuracy_test_6=[0]*3"
   ]
  },
  {
   "cell_type": "code",
   "execution_count": 53,
   "metadata": {},
   "outputs": [],
   "source": [
    "SVM_linear=svm.SVC(kernel='linear',max_iter=100)\n",
    "pair = combinations(np.arange(0,10), 2)\n",
    "for i,n in zip(list(pair), range(len(accuracy_train_6))):\n",
    "        digit_layer_6[n] = i\n",
    "        d_train = dtrain[dtrain['y'].isin(i)]\n",
    "        trX= d_train.drop('y', axis = 1)\n",
    "        trX= trX.div(255.0)\n",
    "        trY= d_train['y']\n",
    "        d_test = dtest[dtest['y'].isin(i)]\n",
    "        teX = dtest.drop('y', axis = 1)\n",
    "        teX = teX.div(255.0)\n",
    "        teY = d_test['y']\n",
    "        SVM.fit(trX, trY)\n",
    "        accuracy_train_6[n] = SVM_linear.score(trX, trY) * 100\n",
    "        accuracy_train_6[n] = SVM_linear.score(teX, teY) * 100"
   ]
  },
  {
   "cell_type": "code",
   "execution_count": 54,
   "metadata": {},
   "outputs": [
    {
     "name": "stdout",
     "output_type": "stream",
     "text": [
      "64.27909212649796 1 (4, 15)\n"
     ]
    }
   ],
   "source": [
    "print(min(accuracy_train_6),np.argmin(accuracy_train_6),digit_six[np.argmin(accuracy_train_6)])"
   ]
  },
  {
   "cell_type": "code",
   "execution_count": 55,
   "metadata": {},
   "outputs": [
    {
     "data": {
      "text/plain": [
       "array([ 0, 16,  6], dtype=int64)"
      ]
     },
     "execution_count": 55,
     "metadata": {},
     "output_type": "execute_result"
    }
   ],
   "source": [
    "dtrain['y'].replace(to_replace=[4,15],value=16,inplace=True)\n",
    "dtest['y'].replace(to_replace=[4,15],value=16,inplace=True)\n",
    "dtrain['y'].unique()"
   ]
  },
  {
   "cell_type": "code",
   "execution_count": 56,
   "metadata": {},
   "outputs": [],
   "source": [
    "digit_layer_7=[(0,16),(6,16)]\n",
    "accuracy_train_7=[0]*2\n",
    "accuracy_test_7=[0]*2"
   ]
  },
  {
   "cell_type": "code",
   "execution_count": 57,
   "metadata": {},
   "outputs": [],
   "source": [
    "SVM_linear=svm.SVC(kernel='linear',max_iter=100)\n",
    "pair = combinations(np.arange(0,10), 2)\n",
    "for i,n in zip(list(pair), range(len(accuracy_train_7))):\n",
    "        digit_layer_7[n] = i\n",
    "        d_train = dtrain[dtrain['y'].isin(i)]\n",
    "        trX= d_train.drop('y', axis = 1)\n",
    "        trX= trX.div(255.0)\n",
    "        trY= d_train['y']\n",
    "        d_test = dtest[dtest['y'].isin(i)]\n",
    "        teX = dtest.drop('y', axis = 1)\n",
    "        teX = teX.div(255.0)\n",
    "        teY = d_test['y']\n",
    "        SVM.fit(trX, trY)\n",
    "        accuracy_train_7[n] = SVM_linear.score(trX, trY) * 100\n",
    "        accuracy_train_7[n] = SVM_linear.score(teX, teY) * 100"
   ]
  },
  {
   "cell_type": "code",
   "execution_count": 58,
   "metadata": {},
   "outputs": [
    {
     "name": "stdout",
     "output_type": "stream",
     "text": [
      "70.52563984955509 1 (6, 16)\n"
     ]
    }
   ],
   "source": [
    "print(min(accuracy_train_7),np.argmin(accuracy_train_7),digit_seven[np.argmin(accuracy_train_7)])"
   ]
  },
  {
   "cell_type": "code",
   "execution_count": 60,
   "metadata": {},
   "outputs": [
    {
     "data": {
      "text/plain": [
       "array([ 0, 17], dtype=int64)"
      ]
     },
     "execution_count": 60,
     "metadata": {},
     "output_type": "execute_result"
    }
   ],
   "source": [
    "dtrain['y'].replace(to_replace=[6,16],value=17,inplace=True)\n",
    "dtest['y'].replace(to_replace=[6,16],value=17,inplace=True)\n",
    "dtrain['y'].unique()"
   ]
  },
  {
   "cell_type": "code",
   "execution_count": 61,
   "metadata": {},
   "outputs": [],
   "source": [
    "digit_layer_8=[(0,17)]\n",
    "accuracy_train_8=[0]\n",
    "accuracy_test_8=[0]"
   ]
  },
  {
   "cell_type": "code",
   "execution_count": 62,
   "metadata": {},
   "outputs": [],
   "source": [
    "SVM_linear=svm.SVC(kernel='linear',max_iter=100)\n",
    "pair = combinations(np.arange(0,10), 2)\n",
    "for i,n in zip(list(pair), range(len(accuracy_train_8))):\n",
    "        digit_dlevel[n] = i\n",
    "        d_train = dtrain[dtrain['y'].isin(i)]\n",
    "        trX= d_train.drop('y', axis = 1)\n",
    "        trX= trX.div(255.0)\n",
    "        trY= d_train['y']\n",
    "        d_test = dtest[dtest['y'].isin(i)]\n",
    "        teX = dtest.drop('y', axis = 1)\n",
    "        teX = teX.div(255.0)\n",
    "        teY = d_test['y']\n",
    "        SVM.fit(trX, trY)\n",
    "        accuracy_train_8[n] = SVM_linear.score(trX, trY) * 100\n",
    "        accuracy_test_8[n] = SVM_linear.score(teX, teY) * 100"
   ]
  },
  {
   "cell_type": "code",
   "execution_count": 63,
   "metadata": {},
   "outputs": [
    {
     "name": "stdout",
     "output_type": "stream",
     "text": [
      "90.88904811773135 0 (0, 16)\n"
     ]
    }
   ],
   "source": [
    "print(min(accuracy_train_8),np.argmin(accuracy_train_8),digit_seven[np.argmin(accuracy_train_8)])"
   ]
  },
  {
   "cell_type": "code",
   "execution_count": 64,
   "metadata": {},
   "outputs": [
    {
     "name": "stdout",
     "output_type": "stream",
     "text": [
      "[90.88904811773135] [90.9125411149532]\n"
     ]
    }
   ],
   "source": [
    "print(Accuracy_Training_eight,Accuracy_Test_eight)"
   ]
  },
  {
   "cell_type": "code",
   "execution_count": 67,
   "metadata": {},
   "outputs": [],
   "source": [
    "Test_Acc = []\n",
    "Test_Acc.append(min(accuracy_test))\n",
    "Test_Acc.append(min(accuracy_test_1))\n",
    "Test_Acc.append(min(accuracy_test_2))\n",
    "Test_Acc.append(min(accuracy_test_3))\n",
    "Test_Acc.append(min(accuracy_test_4))\n",
    "Test_Acc.append(min(accuracy_test_5))\n",
    "Test_Acc.append(min(accuracy_test_6))\n",
    "Test_Acc.append(min(accuracy_test_7))\n",
    "Test_Acc.append(min(accuracy_test_8))"
   ]
  },
  {
   "cell_type": "code",
   "execution_count": 65,
   "metadata": {},
   "outputs": [],
   "source": [
    "First_iter = []\n",
    "First_iter.append(digit[np.argmin(accuracy_train)])\n",
    "First_iter.append(digit_one[np.argmin(accuracy_train_1)])\n",
    "First_iter.append(digit_two[np.argmin(accuracy_train_2)])\n",
    "First_iter.append(digit_three[np.argmin(accuracy_train_3)])\n",
    "First_iter.append(digit_four[np.argmin(accuracy_train_4)])                  \n",
    "First_iter.append(digit_five[np.argmin(accuracy_train_5)])\n",
    "First_iter.append(digit_six[np.argmin(accuracy_train_6)])\n",
    "First_iter.append(digit_seven[np.argmin(accuracy_train_7)])\n",
    "First_iter.append(digit_eight[np.argmin(accuracy_train_8)])"
   ]
  },
  {
   "cell_type": "code",
   "execution_count": 66,
   "metadata": {},
   "outputs": [],
   "source": [
    "Training_Acc = []\n",
    "Training_Acc.append(min(accuracy_train))\n",
    "Training_Acc.append(min(accuracy_train_1))\n",
    "Training_Acc.append(min(accuracy_train_2))\n",
    "Training_Acc.append(min(accuracy_train_3))\n",
    "Training_Acc.append(min(accuracy_train_4))\n",
    "Training_Acc.append(min(accuracy_train_5))\n",
    "Training_Acc.append(min(accuracy_train_6))\n",
    "Training_Acc.append(min(accuracy_train_7))\n",
    "Training_Acc.append(min(accuracy_train_8))"
   ]
  },
  {
   "cell_type": "code",
   "execution_count": 68,
   "metadata": {},
   "outputs": [],
   "source": [
    "I=[10,11,12,13,14,15,16,17,18]"
   ]
  },
  {
   "cell_type": "code",
   "execution_count": 69,
   "metadata": {},
   "outputs": [
    {
     "data": {
      "text/html": [
       "<div>\n",
       "<style scoped>\n",
       "    .dataframe tbody tr th:only-of-type {\n",
       "        vertical-align: middle;\n",
       "    }\n",
       "\n",
       "    .dataframe tbody tr th {\n",
       "        vertical-align: top;\n",
       "    }\n",
       "\n",
       "    .dataframe thead th {\n",
       "        text-align: right;\n",
       "    }\n",
       "</style>\n",
       "<table border=\"1\" class=\"dataframe\">\n",
       "  <thead>\n",
       "    <tr style=\"text-align: right;\">\n",
       "      <th></th>\n",
       "      <th>First_iter</th>\n",
       "      <th>Imputed_Value</th>\n",
       "      <th>Training_Acc</th>\n",
       "      <th>Test_Acc</th>\n",
       "    </tr>\n",
       "  </thead>\n",
       "  <tbody>\n",
       "    <tr>\n",
       "      <td>0</td>\n",
       "      <td>(3, 8)</td>\n",
       "      <td>10</td>\n",
       "      <td>59.238831</td>\n",
       "      <td>11.748334</td>\n",
       "    </tr>\n",
       "    <tr>\n",
       "      <td>1</td>\n",
       "      <td>(1, 10)</td>\n",
       "      <td>11</td>\n",
       "      <td>61.873677</td>\n",
       "      <td>19.397824</td>\n",
       "    </tr>\n",
       "    <tr>\n",
       "      <td>2</td>\n",
       "      <td>(2, 11)</td>\n",
       "      <td>12</td>\n",
       "      <td>58.525808</td>\n",
       "      <td>24.622586</td>\n",
       "    </tr>\n",
       "    <tr>\n",
       "      <td>3</td>\n",
       "      <td>(5, 12)</td>\n",
       "      <td>13</td>\n",
       "      <td>66.604396</td>\n",
       "      <td>33.166062</td>\n",
       "    </tr>\n",
       "    <tr>\n",
       "      <td>4</td>\n",
       "      <td>(7, 13)</td>\n",
       "      <td>14</td>\n",
       "      <td>62.507957</td>\n",
       "      <td>38.753479</td>\n",
       "    </tr>\n",
       "    <tr>\n",
       "      <td>5</td>\n",
       "      <td>(9, 14)</td>\n",
       "      <td>15</td>\n",
       "      <td>55.572925</td>\n",
       "      <td>40.178797</td>\n",
       "    </tr>\n",
       "    <tr>\n",
       "      <td>6</td>\n",
       "      <td>(4, 15)</td>\n",
       "      <td>16</td>\n",
       "      <td>64.279092</td>\n",
       "      <td>53.314498</td>\n",
       "    </tr>\n",
       "    <tr>\n",
       "      <td>7</td>\n",
       "      <td>(6, 16)</td>\n",
       "      <td>17</td>\n",
       "      <td>70.525640</td>\n",
       "      <td>63.759804</td>\n",
       "    </tr>\n",
       "    <tr>\n",
       "      <td>8</td>\n",
       "      <td>(0, 17)</td>\n",
       "      <td>18</td>\n",
       "      <td>90.889048</td>\n",
       "      <td>90.912541</td>\n",
       "    </tr>\n",
       "  </tbody>\n",
       "</table>\n",
       "</div>"
      ],
      "text/plain": [
       "  First_iter  Imputed_Value  Training_Acc   Test_Acc\n",
       "0     (3, 8)             10     59.238831  11.748334\n",
       "1    (1, 10)             11     61.873677  19.397824\n",
       "2    (2, 11)             12     58.525808  24.622586\n",
       "3    (5, 12)             13     66.604396  33.166062\n",
       "4    (7, 13)             14     62.507957  38.753479\n",
       "5    (9, 14)             15     55.572925  40.178797\n",
       "6    (4, 15)             16     64.279092  53.314498\n",
       "7    (6, 16)             17     70.525640  63.759804\n",
       "8    (0, 17)             18     90.889048  90.912541"
      ]
     },
     "execution_count": 69,
     "metadata": {},
     "output_type": "execute_result"
    }
   ],
   "source": [
    "SVC=pd.DataFrame()\n",
    "SVC['First_iter'] = First_iter\n",
    "SVC['Imputed_Value']=I\n",
    "SVC['Training_Acc']=Training_Acc\n",
    "SVC['Test_Acc']=Test_Acc\n",
    "SVC"
   ]
  },
  {
   "cell_type": "code",
   "execution_count": null,
   "metadata": {},
   "outputs": [],
   "source": []
  }
 ],
 "metadata": {
  "kernelspec": {
   "display_name": "Python 3",
   "language": "python",
   "name": "python3"
  },
  "language_info": {
   "codemirror_mode": {
    "name": "ipython",
    "version": 3
   },
   "file_extension": ".py",
   "mimetype": "text/x-python",
   "name": "python",
   "nbconvert_exporter": "python",
   "pygments_lexer": "ipython3",
   "version": "3.7.0"
  }
 },
 "nbformat": 4,
 "nbformat_minor": 2
}
